{
  "nbformat": 4,
  "nbformat_minor": 0,
  "metadata": {
    "colab": {
      "provenance": []
    },
    "kernelspec": {
      "name": "python3",
      "display_name": "Python 3"
    },
    "language_info": {
      "name": "python"
    },
    "accelerator": "GPU"
  },
  "cells": [
    {
      "cell_type": "code",
      "source": [
        "import tensorflow as tf\n",
        "import matplotlib.pyplot as plt\n",
        "from tensorflow.keras import datasets, layers, models, losses"
      ],
      "metadata": {
        "id": "r4dP-tX1IrMS"
      },
      "execution_count": null,
      "outputs": []
    },
    {
      "cell_type": "code",
      "source": [
        "(x_train, y_train), (x_test, y_test)=tf.keras.datasets.mnist.load_data()"
      ],
      "metadata": {
        "colab": {
          "base_uri": "https://localhost:8080/"
        },
        "id": "4XI9qBRzJuXr",
        "outputId": "f545f516-0593-49a8-d1ea-cf4960c03c70"
      },
      "execution_count": null,
      "outputs": [
        {
          "output_type": "stream",
          "name": "stdout",
          "text": [
            "Downloading data from https://storage.googleapis.com/tensorflow/tf-keras-datasets/mnist.npz\n",
            "11490434/11490434 [==============================] - 0s 0us/step\n"
          ]
        }
      ]
    },
    {
      "cell_type": "code",
      "source": [
        "x_train = tf.pad(x_train, [[0, 0], [2,2], [2,2]])/255\n",
        "x_test = tf.pad(x_test, [[0, 0], [2,2], [2,2]])/255\n",
        "x_train.shape"
      ],
      "metadata": {
        "colab": {
          "base_uri": "https://localhost:8080/"
        },
        "id": "g-2wpZO2Mqvk",
        "outputId": "4a8a1db5-0797-4c0a-e8d1-b43166681be2"
      },
      "execution_count": null,
      "outputs": [
        {
          "output_type": "execute_result",
          "data": {
            "text/plain": [
              "TensorShape([60000, 32, 32])"
            ]
          },
          "metadata": {},
          "execution_count": 7
        }
      ]
    },
    {
      "cell_type": "code",
      "source": [
        "x_train = tf.expand_dims(x_train, axis=3, name=None)\n",
        "x_test = tf.expand_dims(x_test, axis=3, name=None)\n",
        "x_train.shape"
      ],
      "metadata": {
        "colab": {
          "base_uri": "https://localhost:8080/"
        },
        "id": "fEkZz00jEC4N",
        "outputId": "80ce04cf-05e6-4382-dafd-22cdbe8c0c9d"
      },
      "execution_count": null,
      "outputs": [
        {
          "output_type": "execute_result",
          "data": {
            "text/plain": [
              "TensorShape([60000, 32, 32, 1])"
            ]
          },
          "metadata": {},
          "execution_count": 8
        }
      ]
    },
    {
      "cell_type": "code",
      "source": [
        "x_val = x_train[-2000:,:,:,:]\n",
        "y_val = y_train[-2000:]\n",
        "x_train = x_train[:-2000,:,:,:]\n",
        "y_train = y_train[:-2000]"
      ],
      "metadata": {
        "id": "90d1iSlREGTF"
      },
      "execution_count": null,
      "outputs": []
    },
    {
      "cell_type": "code",
      "source": [
        "model = models.Sequential()\n",
        "model.add(layers.Conv2D(6, 5, activation='tanh', input_shape=x_train.shape[1:]))\n",
        "model.add(layers.AveragePooling2D(2))\n",
        "model.add(layers.Activation('sigmoid'))\n",
        "model.add(layers.Conv2D(16, 5, activation='tanh'))\n",
        "model.add(layers.AveragePooling2D(2))\n",
        "model.add(layers.Activation('sigmoid'))\n",
        "model.add(layers.Conv2D(120, 5, activation='tanh'))\n",
        "model.add(layers.Flatten())\n",
        "model.add(layers.Dense(84, activation='tanh'))\n",
        "model.add(layers.Dense(10, activation='softmax'))\n",
        "model.summary()"
      ],
      "metadata": {
        "colab": {
          "base_uri": "https://localhost:8080/"
        },
        "id": "yHTto2ZMEIbf",
        "outputId": "defde011-9d00-4ba4-b532-16b786c986d8"
      },
      "execution_count": null,
      "outputs": [
        {
          "output_type": "stream",
          "name": "stdout",
          "text": [
            "Model: \"sequential\"\n",
            "_________________________________________________________________\n",
            " Layer (type)                Output Shape              Param #   \n",
            "=================================================================\n",
            " conv2d (Conv2D)             (None, 28, 28, 6)         156       \n",
            "                                                                 \n",
            " average_pooling2d (AverageP  (None, 14, 14, 6)        0         \n",
            " ooling2D)                                                       \n",
            "                                                                 \n",
            " activation (Activation)     (None, 14, 14, 6)         0         \n",
            "                                                                 \n",
            " conv2d_1 (Conv2D)           (None, 10, 10, 16)        2416      \n",
            "                                                                 \n",
            " average_pooling2d_1 (Averag  (None, 5, 5, 16)         0         \n",
            " ePooling2D)                                                     \n",
            "                                                                 \n",
            " activation_1 (Activation)   (None, 5, 5, 16)          0         \n",
            "                                                                 \n",
            " conv2d_2 (Conv2D)           (None, 1, 1, 120)         48120     \n",
            "                                                                 \n",
            " flatten (Flatten)           (None, 120)               0         \n",
            "                                                                 \n",
            " dense (Dense)               (None, 84)                10164     \n",
            "                                                                 \n",
            " dense_1 (Dense)             (None, 10)                850       \n",
            "                                                                 \n",
            "=================================================================\n",
            "Total params: 61,706\n",
            "Trainable params: 61,706\n",
            "Non-trainable params: 0\n",
            "_________________________________________________________________\n"
          ]
        }
      ]
    },
    {
      "cell_type": "code",
      "source": [
        "model.compile(optimizer='adam', loss=losses.sparse_categorical_crossentropy, metrics=['accuracy'])"
      ],
      "metadata": {
        "id": "sjtlWRFEEKpp"
      },
      "execution_count": null,
      "outputs": []
    },
    {
      "cell_type": "code",
      "source": [
        "history = model.fit(x_train, y_train, batch_size=64, epochs=40, validation_data=(x_val, y_val))"
      ],
      "metadata": {
        "colab": {
          "base_uri": "https://localhost:8080/"
        },
        "id": "anTbZct-EVvH",
        "outputId": "66b62fb3-9879-4cf4-e4ec-bf3bafab3656"
      },
      "execution_count": null,
      "outputs": [
        {
          "output_type": "stream",
          "name": "stdout",
          "text": [
            "Epoch 1/40\n",
            "907/907 [==============================] - 12s 4ms/step - loss: 1.3745 - accuracy: 0.5042 - val_loss: 0.3187 - val_accuracy: 0.9105\n",
            "Epoch 2/40\n",
            "907/907 [==============================] - 3s 4ms/step - loss: 0.3394 - accuracy: 0.8944 - val_loss: 0.2155 - val_accuracy: 0.9405\n",
            "Epoch 3/40\n",
            "907/907 [==============================] - 3s 4ms/step - loss: 0.2640 - accuracy: 0.9165 - val_loss: 0.1654 - val_accuracy: 0.9570\n",
            "Epoch 4/40\n",
            "907/907 [==============================] - 3s 4ms/step - loss: 0.2233 - accuracy: 0.9300 - val_loss: 0.1371 - val_accuracy: 0.9615\n",
            "Epoch 5/40\n",
            "907/907 [==============================] - 3s 4ms/step - loss: 0.1924 - accuracy: 0.9394 - val_loss: 0.1148 - val_accuracy: 0.9700\n",
            "Epoch 6/40\n",
            "907/907 [==============================] - 3s 4ms/step - loss: 0.1719 - accuracy: 0.9450 - val_loss: 0.1315 - val_accuracy: 0.9610\n",
            "Epoch 7/40\n",
            "907/907 [==============================] - 3s 4ms/step - loss: 0.1591 - accuracy: 0.9494 - val_loss: 0.1021 - val_accuracy: 0.9660\n",
            "Epoch 8/40\n",
            "907/907 [==============================] - 3s 4ms/step - loss: 0.1440 - accuracy: 0.9541 - val_loss: 0.0924 - val_accuracy: 0.9760\n",
            "Epoch 9/40\n",
            "907/907 [==============================] - 3s 4ms/step - loss: 0.1366 - accuracy: 0.9559 - val_loss: 0.0920 - val_accuracy: 0.9750\n",
            "Epoch 10/40\n",
            "907/907 [==============================] - 4s 4ms/step - loss: 0.1262 - accuracy: 0.9600 - val_loss: 0.0875 - val_accuracy: 0.9755\n",
            "Epoch 11/40\n",
            "907/907 [==============================] - 3s 4ms/step - loss: 0.1221 - accuracy: 0.9605 - val_loss: 0.0915 - val_accuracy: 0.9755\n",
            "Epoch 12/40\n",
            "907/907 [==============================] - 3s 4ms/step - loss: 0.1159 - accuracy: 0.9629 - val_loss: 0.1262 - val_accuracy: 0.9635\n",
            "Epoch 13/40\n",
            "907/907 [==============================] - 4s 4ms/step - loss: 0.1106 - accuracy: 0.9642 - val_loss: 0.1058 - val_accuracy: 0.9690\n",
            "Epoch 14/40\n",
            "907/907 [==============================] - 3s 4ms/step - loss: 0.1012 - accuracy: 0.9671 - val_loss: 0.0984 - val_accuracy: 0.9725\n",
            "Epoch 15/40\n",
            "907/907 [==============================] - 3s 4ms/step - loss: 0.0997 - accuracy: 0.9684 - val_loss: 0.0640 - val_accuracy: 0.9855\n",
            "Epoch 16/40\n",
            "907/907 [==============================] - 3s 4ms/step - loss: 0.0969 - accuracy: 0.9687 - val_loss: 0.0780 - val_accuracy: 0.9805\n",
            "Epoch 17/40\n",
            "907/907 [==============================] - 3s 4ms/step - loss: 0.0940 - accuracy: 0.9696 - val_loss: 0.0739 - val_accuracy: 0.9800\n",
            "Epoch 18/40\n",
            "907/907 [==============================] - 4s 4ms/step - loss: 0.0908 - accuracy: 0.9709 - val_loss: 0.0738 - val_accuracy: 0.9790\n",
            "Epoch 19/40\n",
            "907/907 [==============================] - 4s 4ms/step - loss: 0.0855 - accuracy: 0.9733 - val_loss: 0.0738 - val_accuracy: 0.9775\n",
            "Epoch 20/40\n",
            "907/907 [==============================] - 3s 4ms/step - loss: 0.0866 - accuracy: 0.9727 - val_loss: 0.0613 - val_accuracy: 0.9840\n",
            "Epoch 21/40\n",
            "907/907 [==============================] - 3s 4ms/step - loss: 0.0799 - accuracy: 0.9744 - val_loss: 0.1056 - val_accuracy: 0.9725\n",
            "Epoch 22/40\n",
            "907/907 [==============================] - 3s 4ms/step - loss: 0.0803 - accuracy: 0.9739 - val_loss: 0.0657 - val_accuracy: 0.9815\n",
            "Epoch 23/40\n",
            "907/907 [==============================] - 3s 4ms/step - loss: 0.0789 - accuracy: 0.9736 - val_loss: 0.0565 - val_accuracy: 0.9875\n",
            "Epoch 24/40\n",
            "907/907 [==============================] - 3s 4ms/step - loss: 0.0735 - accuracy: 0.9766 - val_loss: 0.0576 - val_accuracy: 0.9850\n",
            "Epoch 25/40\n",
            "907/907 [==============================] - 3s 4ms/step - loss: 0.0783 - accuracy: 0.9748 - val_loss: 0.0661 - val_accuracy: 0.9825\n",
            "Epoch 26/40\n",
            "907/907 [==============================] - 3s 4ms/step - loss: 0.0750 - accuracy: 0.9757 - val_loss: 0.0908 - val_accuracy: 0.9770\n",
            "Epoch 27/40\n",
            "907/907 [==============================] - 3s 4ms/step - loss: 0.0678 - accuracy: 0.9780 - val_loss: 0.1029 - val_accuracy: 0.9720\n",
            "Epoch 28/40\n",
            "907/907 [==============================] - 4s 4ms/step - loss: 0.0701 - accuracy: 0.9778 - val_loss: 0.0894 - val_accuracy: 0.9775\n",
            "Epoch 29/40\n",
            "907/907 [==============================] - 4s 4ms/step - loss: 0.0676 - accuracy: 0.9776 - val_loss: 0.0677 - val_accuracy: 0.9835\n",
            "Epoch 30/40\n",
            "907/907 [==============================] - 4s 4ms/step - loss: 0.0658 - accuracy: 0.9792 - val_loss: 0.0717 - val_accuracy: 0.9835\n",
            "Epoch 31/40\n",
            "907/907 [==============================] - 3s 4ms/step - loss: 0.0644 - accuracy: 0.9794 - val_loss: 0.0675 - val_accuracy: 0.9845\n",
            "Epoch 32/40\n",
            "907/907 [==============================] - 3s 4ms/step - loss: 0.0649 - accuracy: 0.9786 - val_loss: 0.0779 - val_accuracy: 0.9800\n",
            "Epoch 33/40\n",
            "907/907 [==============================] - 3s 4ms/step - loss: 0.0621 - accuracy: 0.9793 - val_loss: 0.0661 - val_accuracy: 0.9825\n",
            "Epoch 34/40\n",
            "907/907 [==============================] - 3s 4ms/step - loss: 0.0604 - accuracy: 0.9802 - val_loss: 0.0506 - val_accuracy: 0.9885\n",
            "Epoch 35/40\n",
            "907/907 [==============================] - 4s 4ms/step - loss: 0.0595 - accuracy: 0.9803 - val_loss: 0.0800 - val_accuracy: 0.9810\n",
            "Epoch 36/40\n",
            "907/907 [==============================] - 4s 4ms/step - loss: 0.0587 - accuracy: 0.9804 - val_loss: 0.0662 - val_accuracy: 0.9835\n",
            "Epoch 37/40\n",
            "907/907 [==============================] - 5s 5ms/step - loss: 0.0582 - accuracy: 0.9813 - val_loss: 0.0593 - val_accuracy: 0.9850\n",
            "Epoch 38/40\n",
            "907/907 [==============================] - 3s 4ms/step - loss: 0.0574 - accuracy: 0.9813 - val_loss: 0.0770 - val_accuracy: 0.9800\n",
            "Epoch 39/40\n",
            "907/907 [==============================] - 3s 4ms/step - loss: 0.0534 - accuracy: 0.9821 - val_loss: 0.0621 - val_accuracy: 0.9855\n",
            "Epoch 40/40\n",
            "907/907 [==============================] - 3s 4ms/step - loss: 0.0544 - accuracy: 0.9821 - val_loss: 0.0629 - val_accuracy: 0.9845\n"
          ]
        }
      ]
    },
    {
      "cell_type": "code",
      "source": [
        "fig, axs = plt.subplots(2, 1, figsize=(15,15))\n",
        "axs[0].plot(history.history['loss'])\n",
        "axs[0].plot(history.history['val_loss'])\n",
        "axs[0].title.set_text('Training Loss vs Validation Loss')\n",
        "axs[0].legend(['Train', 'Val'])\n",
        "axs[1].plot(history.history['accuracy'])\n",
        "axs[1].plot(history.history['val_accuracy'])\n",
        "axs[1].title.set_text('Training Accuracy vs Validation Accuracy')\n",
        "axs[1].legend(['Train', 'Val'])"
      ],
      "metadata": {
        "colab": {
          "base_uri": "https://localhost:8080/",
          "height": 769
        },
        "id": "r2tO4LO5FmN4",
        "outputId": "ad3dfa59-d7d9-40a8-a5ee-facbf8832e59"
      },
      "execution_count": null,
      "outputs": [
        {
          "output_type": "execute_result",
          "data": {
            "text/plain": [
              "<matplotlib.legend.Legend at 0x7f7ee1fbd790>"
            ]
          },
          "metadata": {},
          "execution_count": 13
        },
        {
          "output_type": "display_data",
          "data": {
            "text/plain": [
              "<Figure size 1080x1080 with 2 Axes>"
            ],
            "image/png": "[encoded data removed]"
          },
          "metadata": {
            "needs_background": "light"
          }
        }
      ]
    },
    {
      "cell_type": "code",
      "source": [
        "model.evaluate(x_test, y_test)"
      ],
      "metadata": {
        "colab": {
          "base_uri": "https://localhost:8080/"
        },
        "id": "jNLlJ1PUFoJZ",
        "outputId": "08c21581-7e0a-43a8-cee6-d2009b60ab31"
      },
      "execution_count": null,
      "outputs": [
        {
          "output_type": "stream",
          "name": "stdout",
          "text": [
            "313/313 [==============================] - 1s 3ms/step - loss: 0.0609 - accuracy: 0.9808\n"
          ]
        },
        {
          "output_type": "execute_result",
          "data": {
            "text/plain": [
              "[0.06093062087893486, 0.9807999730110168]"
            ]
          },
          "metadata": {},
          "execution_count": 14
        }
      ]
    },
    {
      "cell_type": "code",
      "source": [],
      "metadata": {
        "id": "eyzBGN3DNapU"
      },
      "execution_count": null,
      "outputs": []
    }
  ]
}